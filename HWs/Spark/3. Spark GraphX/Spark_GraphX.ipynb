{
  "nbformat": 4,
  "nbformat_minor": 0,
  "metadata": {
    "colab": {
      "name": "Spark Step 4.ipynb",
      "provenance": [],
      "collapsed_sections": []
    },
    "kernelspec": {
      "name": "python3",
      "display_name": "Python 3"
    },
    "language_info": {
      "name": "python"
    }
  },
  "cells": [
    {
      "cell_type": "markdown",
      "metadata": {
        "id": "Dd6t0uFzuR4X"
      },
      "source": [
        "### Installing Spark"
      ]
    },
    {
      "cell_type": "markdown",
      "metadata": {
        "id": "6apGVff5h4ca"
      },
      "source": [
        "Install Dependencies:\n",
        "\n",
        "\n",
        "1.   Java 8\n",
        "2.   Apache Spark with hadoop\n",
        "3.   Findspark (used to locate the spark in the system)\n"
      ]
    },
    {
      "cell_type": "code",
      "metadata": {
        "id": "tt7ZS1_wGgjn"
      },
      "source": [
        "!apt-get install openjdk-8-jdk-headless -qq > /dev/null"
      ],
      "execution_count": 1,
      "outputs": []
    },
    {
      "cell_type": "code",
      "metadata": {
        "colab": {
          "base_uri": "https://localhost:8080/"
        },
        "id": "BbDNZZqTTO7v",
        "outputId": "23a4488b-c646-4c8d-849f-7fb83b21b187"
      },
      "source": [
        "!wget http://archive.apache.org/dist/spark/spark-2.4.8/spark-2.4.8-bin-hadoop2.6.tgz\n",
        "!tar xf spark-2.4.8-bin-hadoop2.6.tgz"
      ],
      "execution_count": 2,
      "outputs": [
        {
          "output_type": "stream",
          "text": [
            "--2021-06-14 05:03:29--  http://archive.apache.org/dist/spark/spark-2.4.8/spark-2.4.8-bin-hadoop2.6.tgz\n",
            "Resolving archive.apache.org (archive.apache.org)... 138.201.131.134, 2a01:4f8:172:2ec5::2\n",
            "Connecting to archive.apache.org (archive.apache.org)|138.201.131.134|:80... connected.\n",
            "HTTP request sent, awaiting response... 200 OK\n",
            "Length: 233849041 (223M) [application/x-gzip]\n",
            "Saving to: ‘spark-2.4.8-bin-hadoop2.6.tgz’\n",
            "\n",
            "spark-2.4.8-bin-had 100%[===================>] 223.02M  24.1MB/s    in 9.8s    \n",
            "\n",
            "2021-06-14 05:03:39 (22.8 MB/s) - ‘spark-2.4.8-bin-hadoop2.6.tgz’ saved [233849041/233849041]\n",
            "\n"
          ],
          "name": "stdout"
        }
      ]
    },
    {
      "cell_type": "code",
      "metadata": {
        "id": "YwC94i9eTQZD",
        "colab": {
          "base_uri": "https://localhost:8080/"
        },
        "outputId": "300d2267-e273-4c39-902d-baa32bab1910"
      },
      "source": [
        "!pip -q install findspark graphframes"
      ],
      "execution_count": 3,
      "outputs": [
        {
          "output_type": "stream",
          "text": [
            "\u001b[?25l\r\u001b[K     |██▏                             | 10kB 19.0MB/s eta 0:00:01\r\u001b[K     |████▎                           | 20kB 17.2MB/s eta 0:00:01\r\u001b[K     |██████▍                         | 30kB 11.3MB/s eta 0:00:01\r\u001b[K     |████████▌                       | 40kB 9.6MB/s eta 0:00:01\r\u001b[K     |██████████▋                     | 51kB 5.3MB/s eta 0:00:01\r\u001b[K     |████████████▊                   | 61kB 5.8MB/s eta 0:00:01\r\u001b[K     |██████████████▉                 | 71kB 6.1MB/s eta 0:00:01\r\u001b[K     |█████████████████               | 81kB 6.7MB/s eta 0:00:01\r\u001b[K     |███████████████████             | 92kB 7.1MB/s eta 0:00:01\r\u001b[K     |█████████████████████▏          | 102kB 7.3MB/s eta 0:00:01\r\u001b[K     |███████████████████████▎        | 112kB 7.3MB/s eta 0:00:01\r\u001b[K     |█████████████████████████▍      | 122kB 7.3MB/s eta 0:00:01\r\u001b[K     |███████████████████████████▌    | 133kB 7.3MB/s eta 0:00:01\r\u001b[K     |█████████████████████████████▋  | 143kB 7.3MB/s eta 0:00:01\r\u001b[K     |███████████████████████████████▊| 153kB 7.3MB/s eta 0:00:01\r\u001b[K     |████████████████████████████████| 163kB 7.3MB/s \n",
            "\u001b[?25h"
          ],
          "name": "stdout"
        }
      ]
    },
    {
      "cell_type": "markdown",
      "metadata": {
        "id": "C3x0ZRLxjMVr"
      },
      "source": [
        "Set Environment Variables:"
      ]
    },
    {
      "cell_type": "code",
      "metadata": {
        "id": "sdOOq4twHN1K"
      },
      "source": [
        "import os\n",
        "\n",
        "os.environ[\"JAVA_HOME\"] = \"/usr/lib/jvm/java-8-openjdk-amd64\"\n",
        "os.environ[\"SPARK_HOME\"] = \"/content/spark-2.4.8-bin-hadoop2.6\"\n",
        "\n",
        "os.environ[\"HADOOP_HOME\"] = os.environ[\"SPARK_HOME\"]\n",
        "os.environ[\"PYSPARK_DRIVER_PYTHON\"] = \"jupyter\"\n",
        "os.environ[\"PYSPARK_DRIVER_PYTHON_OPTS\"] = \"notebook\"\n",
        "os.environ[\"PYSPARK_SUBMIT_ARGS\"] = \"--packages graphframes:graphframes:0.8.0-spark2.4-s_2.11 pyspark-shell\""
      ],
      "execution_count": 4,
      "outputs": []
    },
    {
      "cell_type": "code",
      "metadata": {
        "id": "KR1zLBk1998Z",
        "colab": {
          "base_uri": "https://localhost:8080/",
          "height": 216
        },
        "outputId": "e6f8cd1f-134f-412b-d237-9774fa08e827"
      },
      "source": [
        "import findspark\n",
        "\n",
        "findspark.init()\n",
        "\n",
        "from pyspark.sql import SparkSession\n",
        "\n",
        "spark = SparkSession.builder.master(\"local[*]\").getOrCreate()\n",
        "# Property used to format output tables better\n",
        "spark.conf.set(\"spark.sql.repl.eagerEval.enabled\", True)\n",
        "spark"
      ],
      "execution_count": 5,
      "outputs": [
        {
          "output_type": "execute_result",
          "data": {
            "text/html": [
              "\n",
              "            <div>\n",
              "                <p><b>SparkSession - in-memory</b></p>\n",
              "                \n",
              "        <div>\n",
              "            <p><b>SparkContext</b></p>\n",
              "\n",
              "            <p><a href=\"http://f1c76f0b1b5e:4040\">Spark UI</a></p>\n",
              "\n",
              "            <dl>\n",
              "              <dt>Version</dt>\n",
              "                <dd><code>v2.4.8</code></dd>\n",
              "              <dt>Master</dt>\n",
              "                <dd><code>local[*]</code></dd>\n",
              "              <dt>AppName</dt>\n",
              "                <dd><code>pyspark-shell</code></dd>\n",
              "            </dl>\n",
              "        </div>\n",
              "        \n",
              "            </div>\n",
              "        "
            ],
            "text/plain": [
              "<pyspark.sql.session.SparkSession at 0x7f5912c6f290>"
            ]
          },
          "metadata": {
            "tags": []
          },
          "execution_count": 5
        }
      ]
    },
    {
      "cell_type": "markdown",
      "metadata": {
        "id": "fkfFk0f4BSzo"
      },
      "source": [
        "### Part 1\n",
        "Create Graphframes"
      ]
    },
    {
      "cell_type": "code",
      "metadata": {
        "id": "ZTm0EY3L-yFo"
      },
      "source": [
        "import re\n",
        "\n",
        "# load vertexs as RDD\n",
        "vertexs = spark.sparkContext.textFile('Vertex.txt')\n",
        "v = vertexs.map(lambda line: re.split(r'\\t+', line)).toDF(['id', 'name'])\n",
        "\n",
        "# load edges as RDD\n",
        "edges = spark.sparkContext.textFile('edges.txt')\n",
        "e = edges.map(lambda line: re.split(r'\\t+', line)).toDF(['src', 'dst'])"
      ],
      "execution_count": 6,
      "outputs": []
    },
    {
      "cell_type": "code",
      "metadata": {
        "id": "-H5kwhznG6N2"
      },
      "source": [
        "# Create a GraphFrame\n",
        "from graphframes import *\n",
        "\n",
        "g = GraphFrame(v, e)"
      ],
      "execution_count": 7,
      "outputs": []
    },
    {
      "cell_type": "markdown",
      "metadata": {
        "id": "pbjGN2_ZQ-cp"
      },
      "source": [
        "### Part 2\n",
        "1. Find vertex with most input degree\n",
        "2. Find vertex with most output degree"
      ]
    },
    {
      "cell_type": "code",
      "metadata": {
        "colab": {
          "base_uri": "https://localhost:8080/"
        },
        "id": "koG6teNeHt7P",
        "outputId": "1639d59f-833a-4315-9d52-b23c66ef9e83"
      },
      "source": [
        "res_df = g.inDegrees.orderBy('inDegree', ascending=False).limit(1)\n",
        "res_df.join(v, 'id').show()"
      ],
      "execution_count": 20,
      "outputs": [
        {
          "output_type": "stream",
          "text": [
            "+------------------+--------+-------------------+\n",
            "|                id|inDegree|               name|\n",
            "+------------------+--------+-------------------+\n",
            "|946065507707541358|     327|The Football League|\n",
            "+------------------+--------+-------------------+\n",
            "\n"
          ],
          "name": "stdout"
        }
      ]
    },
    {
      "cell_type": "code",
      "metadata": {
        "colab": {
          "base_uri": "https://localhost:8080/"
        },
        "id": "mMPteyh4H129",
        "outputId": "86b32c61-0211-4a13-fb7c-e991eaf7719c"
      },
      "source": [
        "res_df = g.outDegrees.orderBy('outDegree', ascending=False).limit(1)\n",
        "res_df.join(v, 'id').show()"
      ],
      "execution_count": 21,
      "outputs": [
        {
          "output_type": "stream",
          "text": [
            "+-------------------+---------+--------------------+\n",
            "|                 id|outDegree|                name|\n",
            "+-------------------+---------+--------------------+\n",
            "|3841755165517709241|      264|Template:All-Irel...|\n",
            "+-------------------+---------+--------------------+\n",
            "\n"
          ],
          "name": "stdout"
        }
      ]
    },
    {
      "cell_type": "markdown",
      "metadata": {
        "id": "S7rqColRRCA7"
      },
      "source": [
        "### Part 3\n",
        "Calculate connected components size"
      ]
    },
    {
      "cell_type": "code",
      "metadata": {
        "id": "cV93WOlXK8WJ"
      },
      "source": [
        "!mkdir /content/checkpoints"
      ],
      "execution_count": 22,
      "outputs": []
    },
    {
      "cell_type": "code",
      "metadata": {
        "id": "PKb6M5JmLAu5"
      },
      "source": [
        "spark.sparkContext.setCheckpointDir('/content/checkpoints')"
      ],
      "execution_count": 23,
      "outputs": []
    },
    {
      "cell_type": "code",
      "metadata": {
        "id": "rHAoh0DWIm9p"
      },
      "source": [
        "result = g.connectedComponents()"
      ],
      "execution_count": 24,
      "outputs": []
    },
    {
      "cell_type": "code",
      "metadata": {
        "colab": {
          "base_uri": "https://localhost:8080/"
        },
        "id": "4ztxCaGSKe0w",
        "outputId": "88a3af64-d1a4-4f3c-ab8f-8b128391b0e6"
      },
      "source": [
        "result.groupBy('component').count().orderBy('count', ascending=False).show()"
      ],
      "execution_count": 25,
      "outputs": [
        {
          "output_type": "stream",
          "text": [
            "+-------------+-----+\n",
            "|    component|count|\n",
            "+-------------+-----+\n",
            "|            1| 6477|\n",
            "|  42949672979|   52|\n",
            "|  85899345921|   35|\n",
            "| 163208757270|   14|\n",
            "|   8589934631|   14|\n",
            "|  77309411351|   13|\n",
            "| 317827579922|   13|\n",
            "|  68719476736|   12|\n",
            "|  68719476765|   11|\n",
            "|  34359738381|    9|\n",
            "| 154618822695|    7|\n",
            "|  17179869223|    7|\n",
            "| 687194767374|    6|\n",
            "| 137438953508|    6|\n",
            "| 292057776177|    6|\n",
            "| 420906795013|    6|\n",
            "| 146028888100|    6|\n",
            "| 446676598817|    6|\n",
            "| 730144440335|    5|\n",
            "|1108101562411|    5|\n",
            "+-------------+-----+\n",
            "only showing top 20 rows\n",
            "\n"
          ],
          "name": "stdout"
        }
      ]
    },
    {
      "cell_type": "markdown",
      "metadata": {
        "id": "LStlmTmoRITe"
      },
      "source": [
        "### Part 4\n",
        "Find top 10 vertex with most input degree"
      ]
    },
    {
      "cell_type": "code",
      "metadata": {
        "colab": {
          "base_uri": "https://localhost:8080/"
        },
        "id": "jfhFUcYoNVTQ",
        "outputId": "05619562-7ef5-4554-fd3e-3a6058ba365e"
      },
      "source": [
        "res_df = g.inDegrees.orderBy('inDegree', ascending=False).limit(10)\n",
        "res_df.join(v, 'id').orderBy('inDegree', ascending=False).show()"
      ],
      "execution_count": 26,
      "outputs": [
        {
          "output_type": "stream",
          "text": [
            "+-------------------+--------+--------------------+\n",
            "|                 id|inDegree|                name|\n",
            "+-------------------+--------+--------------------+\n",
            "| 946065507707541358|     327| The Football League|\n",
            "|3856212023725725593|     322|National Football...|\n",
            "|8978262722425160811|     316|Australian Footba...|\n",
            "|6245498229508734555|     185|Southern Football...|\n",
            "|7264519433548233535|     180|Football League F...|\n",
            "|5362090331808156011|     179|Football League S...|\n",
            "| 277710621679830671|     149|All-Ireland Senio...|\n",
            "|1984578398767042266|     145|Scottish Football...|\n",
            "|2395551540800395672|     134|Football League T...|\n",
            "|5395033957924805072|     130|Pro Football Hall...|\n",
            "+-------------------+--------+--------------------+\n",
            "\n"
          ],
          "name": "stdout"
        }
      ]
    },
    {
      "cell_type": "markdown",
      "metadata": {
        "id": "NMe7r9bSSF7S"
      },
      "source": [
        "### Part 5\n",
        "Draw 1 percent of graph as sample"
      ]
    },
    {
      "cell_type": "code",
      "metadata": {
        "id": "lE-rXGtKSt7K"
      },
      "source": [
        "import networkx as nx\n",
        "import matplotlib.pyplot as plt"
      ],
      "execution_count": 27,
      "outputs": []
    },
    {
      "cell_type": "code",
      "metadata": {
        "id": "5ulLWxcWS8YR",
        "colab": {
          "base_uri": "https://localhost:8080/",
          "height": 895
        },
        "outputId": "d9342ba4-1fda-4b29-cea1-725d534658dd"
      },
      "source": [
        "plt.figure(figsize=(12, 12))\n",
        "\n",
        "pandas_df = g.edges.toPandas().sample(frac=0.01, random_state=85)\n",
        "nx_g = nx.from_pandas_edgelist(pandas_df, source='src', target='dst')\n",
        "\n",
        "nx.draw(nx_g, node_size=30)\n",
        "plt.savefig('graph.jpg')"
      ],
      "execution_count": 29,
      "outputs": [
        {
          "output_type": "display_data",
          "data": {
            "image/png": "[encoded data removed]",
            "text/plain": [
              "<Figure size 864x864 with 1 Axes>"
            ]
          },
          "metadata": {
            "tags": []
          }
        }
      ]
    },
    {
      "cell_type": "code",
      "metadata": {
        "id": "qIvh6IWk8VwQ"
      },
      "source": [
        ""
      ],
      "execution_count": null,
      "outputs": []
    }
  ]
}