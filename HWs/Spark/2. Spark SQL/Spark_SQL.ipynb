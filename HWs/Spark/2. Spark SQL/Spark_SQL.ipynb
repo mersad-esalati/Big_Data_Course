{
  "nbformat": 4,
  "nbformat_minor": 0,
  "metadata": {
    "colab": {
      "name": "Spark Step 3.ipynb",
      "provenance": [],
      "collapsed_sections": []
    },
    "kernelspec": {
      "name": "python3",
      "display_name": "Python 3"
    },
    "language_info": {
      "name": "python"
    }
  },
  "cells": [
    {
      "cell_type": "markdown",
      "metadata": {
        "id": "Dd6t0uFzuR4X"
      },
      "source": [
        "### Installing Spark"
      ]
    },
    {
      "cell_type": "markdown",
      "metadata": {
        "id": "6apGVff5h4ca"
      },
      "source": [
        "Install Dependencies:\n",
        "\n",
        "\n",
        "1.   Java 8\n",
        "2.   Apache Spark with hadoop\n",
        "3.   Findspark (used to locate the spark in the system)\n"
      ]
    },
    {
      "cell_type": "code",
      "metadata": {
        "id": "tt7ZS1_wGgjn"
      },
      "source": [
        "!apt-get install openjdk-8-jdk-headless -qq > /dev/null"
      ],
      "execution_count": 1,
      "outputs": []
    },
    {
      "cell_type": "code",
      "metadata": {
        "colab": {
          "base_uri": "https://localhost:8080/"
        },
        "id": "BbDNZZqTTO7v",
        "outputId": "214eb7ce-43bd-49a8-9c00-785a3662124d"
      },
      "source": [
        "!wget http://archive.apache.org/dist/spark/spark-3.1.1/spark-3.1.1-bin-hadoop3.2.tgz\n",
        "!tar xf spark-3.1.1-bin-hadoop3.2.tgz"
      ],
      "execution_count": 2,
      "outputs": [
        {
          "output_type": "stream",
          "text": [
            "--2021-06-13 07:01:49--  http://archive.apache.org/dist/spark/spark-3.1.1/spark-3.1.1-bin-hadoop3.2.tgz\n",
            "Resolving archive.apache.org (archive.apache.org)... 138.201.131.134, 2a01:4f8:172:2ec5::2\n",
            "Connecting to archive.apache.org (archive.apache.org)|138.201.131.134|:80... connected.\n",
            "HTTP request sent, awaiting response... 200 OK\n",
            "Length: 228721937 (218M) [application/x-gzip]\n",
            "Saving to: ‘spark-3.1.1-bin-hadoop3.2.tgz’\n",
            "\n",
            "spark-3.1.1-bin-had 100%[===================>] 218.13M  19.6MB/s    in 13s     \n",
            "\n",
            "2021-06-13 07:02:02 (17.3 MB/s) - ‘spark-3.1.1-bin-hadoop3.2.tgz’ saved [228721937/228721937]\n",
            "\n"
          ],
          "name": "stdout"
        }
      ]
    },
    {
      "cell_type": "code",
      "metadata": {
        "id": "YwC94i9eTQZD"
      },
      "source": [
        "!pip install -q findspark"
      ],
      "execution_count": 3,
      "outputs": []
    },
    {
      "cell_type": "markdown",
      "metadata": {
        "id": "C3x0ZRLxjMVr"
      },
      "source": [
        "Set Environment Variables:"
      ]
    },
    {
      "cell_type": "code",
      "metadata": {
        "id": "sdOOq4twHN1K"
      },
      "source": [
        "import os\n",
        "\n",
        "os.environ[\"JAVA_HOME\"] = \"/usr/lib/jvm/java-8-openjdk-amd64\"\n",
        "os.environ[\"SPARK_HOME\"] = \"/content/spark-3.1.1-bin-hadoop3.2\""
      ],
      "execution_count": 4,
      "outputs": []
    },
    {
      "cell_type": "code",
      "metadata": {
        "id": "KR1zLBk1998Z",
        "colab": {
          "base_uri": "https://localhost:8080/",
          "height": 0
        },
        "outputId": "85fee563-b506-484b-e308-0555dd150ca4"
      },
      "source": [
        "import findspark\n",
        "\n",
        "findspark.init()\n",
        "\n",
        "from pyspark.sql import SparkSession\n",
        "\n",
        "spark = SparkSession.builder.master(\"local[*]\").getOrCreate()\n",
        "# Property used to format output tables better\n",
        "spark.conf.set(\"spark.sql.repl.eagerEval.enabled\", True)\n",
        "spark"
      ],
      "execution_count": 5,
      "outputs": [
        {
          "output_type": "execute_result",
          "data": {
            "text/html": [
              "\n",
              "            <div>\n",
              "                <p><b>SparkSession - in-memory</b></p>\n",
              "                \n",
              "        <div>\n",
              "            <p><b>SparkContext</b></p>\n",
              "\n",
              "            <p><a href=\"http://f1d2f3ead17c:4040\">Spark UI</a></p>\n",
              "\n",
              "            <dl>\n",
              "              <dt>Version</dt>\n",
              "                <dd><code>v3.1.1</code></dd>\n",
              "              <dt>Master</dt>\n",
              "                <dd><code>local[*]</code></dd>\n",
              "              <dt>AppName</dt>\n",
              "                <dd><code>pyspark-shell</code></dd>\n",
              "            </dl>\n",
              "        </div>\n",
              "        \n",
              "            </div>\n",
              "        "
            ],
            "text/plain": [
              "<pyspark.sql.session.SparkSession at 0x7f3b168ed590>"
            ]
          },
          "metadata": {
            "tags": []
          },
          "execution_count": 5
        }
      ]
    },
    {
      "cell_type": "markdown",
      "metadata": {
        "id": "0gFGOSnPQkP6"
      },
      "source": [
        "### Load Dataset"
      ]
    },
    {
      "cell_type": "markdown",
      "metadata": {
        "id": "FB85h5FxLYPc"
      },
      "source": [
        "Download stock data from tsetmc site\n",
        "<br />\n",
        "**NOTE**: below code must run on server with iran ip address\n",
        "<br />\n",
        "I run script in local system and then upload result to google drive manualy"
      ]
    },
    {
      "cell_type": "code",
      "metadata": {
        "id": "pJADp1HmLR7S"
      },
      "source": [
        "import requests\n",
        "import io\n",
        "import re\n",
        "\n",
        "NAME_RE = re.compile(r\"^[\\u0600-\\u06FF\\s]+[0-9]?$\")\n",
        "\n",
        "import pandas as pd\n",
        "\n",
        "for month in range(10, 13):\n",
        "    for day in range(1, 32):\n",
        "        # donwload xlsx file\n",
        "        date = '1399-%02d-%02d' % (month, day)\n",
        "        headers = {'user-agent': 'Chrome/61.0'}\n",
        "        query = {'d': date}\n",
        "        url = 'http://members.tsetmc.com/tsev2/excel/MarketWatchPlus.aspx'\n",
        "        r = requests.get(url, params=query, headers=headers, allow_redirects=True)\n",
        "        if len(r.content) > 10240:\n",
        "            # convert xlsx to csv\n",
        "            with io.BytesIO(r.content) as fh:\n",
        "                df = pd.io.excel.read_excel(fh, index_col=0, header=2)\n",
        "\n",
        "                # filter symbol name\n",
        "                idx = [bool(re.match(NAME_RE, symbol)) for symbol in df.index]\n",
        "                df = df[idx]\n",
        "                df.index.names = ['symbol']\n",
        "                df.columns = ['name', 'count', 'capacity', 'value',\n",
        "              \t\t       'yesterday', 'first',\n",
        "              \t\t       'last_deal', 'last_deal - diff', 'last_deal - percent',\n",
        "              \t\t       'final_price', 'final_price - diff', 'final_price - percent',\n",
        "              \t\t       'min', 'max']\n",
        "                # add trade date column\n",
        "                df['trade_date'] = '1399-%02d-%02d' % (month, day)\n",
        "                df['year'] = 1399\n",
        "                df['month'] = month\n",
        "                df['day'] = day\n",
        "                filename = './stocks/1399-%02d-%02d.csv' % (month, day)\n",
        "                df.to_csv(filename)\n",
        "                print('%s --> done' % filename)"
      ],
      "execution_count": null,
      "outputs": []
    },
    {
      "cell_type": "markdown",
      "metadata": {
        "id": "kNCfMGjoMA2Q"
      },
      "source": [
        "Mount google drive"
      ]
    },
    {
      "cell_type": "code",
      "metadata": {
        "colab": {
          "base_uri": "https://localhost:8080/"
        },
        "id": "rjvSlJ3kRzBl",
        "outputId": "0f4d3bb6-9f03-4a8f-e10e-20ccffbe33bf"
      },
      "source": [
        "from google.colab import drive\n",
        "drive.mount('/gdrive')"
      ],
      "execution_count": 6,
      "outputs": [
        {
          "output_type": "stream",
          "text": [
            "Mounted at /gdrive\n"
          ],
          "name": "stdout"
        }
      ]
    },
    {
      "cell_type": "code",
      "metadata": {
        "colab": {
          "base_uri": "https://localhost:8080/"
        },
        "id": "H5DHAR18pYsC",
        "outputId": "dad4e882-3e10-416c-f01b-df042f646404"
      },
      "source": [
        "#check stock files\n",
        "!ls /gdrive/MyDrive/stocks"
      ],
      "execution_count": 7,
      "outputs": [
        {
          "output_type": "stream",
          "text": [
            "1399-10-01.csv\t1399-10-20.csv\t1399-11-07.csv\t1399-11-27.csv\t1399-12-16.csv\n",
            "1399-10-02.csv\t1399-10-21.csv\t1399-11-08.csv\t1399-11-28.csv\t1399-12-17.csv\n",
            "1399-10-03.csv\t1399-10-22.csv\t1399-11-11.csv\t1399-11-29.csv\t1399-12-18.csv\n",
            "1399-10-06.csv\t1399-10-23.csv\t1399-11-12.csv\t1399-12-02.csv\t1399-12-19.csv\n",
            "1399-10-07.csv\t1399-10-24.csv\t1399-11-13.csv\t1399-12-03.csv\t1399-12-20.csv\n",
            "1399-10-08.csv\t1399-10-27.csv\t1399-11-14.csv\t1399-12-04.csv\t1399-12-23.csv\n",
            "1399-10-09.csv\t1399-10-29.csv\t1399-11-15.csv\t1399-12-05.csv\t1399-12-24.csv\n",
            "1399-10-10.csv\t1399-10-30.csv\t1399-11-18.csv\t1399-12-06.csv\t1399-12-25.csv\n",
            "1399-10-13.csv\t1399-10-31.csv\t1399-11-19.csv\t1399-12-09.csv\t1399-12-26.csv\n",
            "1399-10-14.csv\t1399-11-01.csv\t1399-11-20.csv\t1399-12-10.csv\t1399-12-27.csv\n",
            "1399-10-15.csv\t1399-11-04.csv\t1399-11-21.csv\t1399-12-11.csv\n",
            "1399-10-16.csv\t1399-11-05.csv\t1399-11-25.csv\t1399-12-12.csv\n",
            "1399-10-17.csv\t1399-11-06.csv\t1399-11-26.csv\t1399-12-13.csv\n"
          ],
          "name": "stdout"
        }
      ]
    },
    {
      "cell_type": "code",
      "metadata": {
        "colab": {
          "base_uri": "https://localhost:8080/"
        },
        "id": "qSQ-S1NNopWv",
        "outputId": "adbb3436-d43e-4b80-876c-e64c3a9d2cec"
      },
      "source": [
        "from pyspark.sql.functions import col\n",
        "from pyspark.sql.functions import to_date\n",
        "\n",
        "# Load data into dataframe for use in Spark Dataframes\n",
        "df = spark.read.csv('/gdrive/MyDrive/stocks/*.csv', header=True)\n",
        "\n",
        "# fix columns type\n",
        "df = df.withColumn('capacity', col('capacity').cast('int'))\n",
        "df = df.withColumn('final_price - diff', col('final_price - diff').cast('int'))\n",
        "\n",
        "df = df.withColumn('trade_date', to_date(df.trade_date, 'yyyy-MM-dd'))\n",
        "df = df.withColumn('year', col('year').cast('int'))\n",
        "df = df.withColumn('month', col('month').cast('int'))\n",
        "df = df.withColumn('day', col('day').cast('int'))\n",
        "\n",
        "df.printSchema()"
      ],
      "execution_count": 8,
      "outputs": [
        {
          "output_type": "stream",
          "text": [
            "root\n",
            " |-- symbol: string (nullable = true)\n",
            " |-- name: string (nullable = true)\n",
            " |-- count: string (nullable = true)\n",
            " |-- capacity: integer (nullable = true)\n",
            " |-- value: string (nullable = true)\n",
            " |-- yesterday: string (nullable = true)\n",
            " |-- first: string (nullable = true)\n",
            " |-- last_deal: string (nullable = true)\n",
            " |-- last_deal - diff: string (nullable = true)\n",
            " |-- last_deal - percent: string (nullable = true)\n",
            " |-- final_price: string (nullable = true)\n",
            " |-- final_price - diff: integer (nullable = true)\n",
            " |-- final_price - percent: string (nullable = true)\n",
            " |-- min: string (nullable = true)\n",
            " |-- max: string (nullable = true)\n",
            " |-- trade_date: date (nullable = true)\n",
            " |-- year: integer (nullable = true)\n",
            " |-- month: integer (nullable = true)\n",
            " |-- day: integer (nullable = true)\n",
            "\n"
          ],
          "name": "stdout"
        }
      ]
    },
    {
      "cell_type": "code",
      "metadata": {
        "id": "Eqn2pZGbp92X"
      },
      "source": [
        "# Register Temporary Table for using in Spark SQL\n",
        "df.createOrReplaceTempView('stock')"
      ],
      "execution_count": 9,
      "outputs": []
    },
    {
      "cell_type": "markdown",
      "metadata": {
        "id": "0lnl1RjMXGjt"
      },
      "source": [
        "### Q1\n",
        "Find top 10 most\\least expensive symbols in last day (1399-12-27)"
      ]
    },
    {
      "cell_type": "markdown",
      "metadata": {
        "id": "MqDGpFxCNX13"
      },
      "source": [
        "#### Spark Dataframes"
      ]
    },
    {
      "cell_type": "code",
      "metadata": {
        "colab": {
          "base_uri": "https://localhost:8080/",
          "height": 316
        },
        "id": "PUep0T2upr4Y",
        "outputId": "0e7aba5e-c483-4d89-8425-dc47e32c0655"
      },
      "source": [
        "from pyspark.sql.functions import lit\n",
        "\n",
        "# most expensive\n",
        "res_df = df.filter(df.trade_date == lit(\"1399-12-27\")).select('symbol', 'final_price')\n",
        "res_df.orderBy('final_price', ascending=False).limit(10)"
      ],
      "execution_count": 10,
      "outputs": [
        {
          "output_type": "execute_result",
          "data": {
            "text/html": [
              "<table border='1'>\n",
              "<tr><th>symbol</th><th>final_price</th></tr>\n",
              "<tr><td>صايند</td><td>9939</td></tr>\n",
              "<tr><td>شگويا</td><td>9919</td></tr>\n",
              "<tr><td>اشاد1</td><td>990000</td></tr>\n",
              "<tr><td>شپلي</td><td>9885</td></tr>\n",
              "<tr><td>وتوسم2</td><td>9800</td></tr>\n",
              "<tr><td>سحرخيز</td><td>9762</td></tr>\n",
              "<tr><td>شتران</td><td>9730</td></tr>\n",
              "<tr><td>وتوسم</td><td>9700</td></tr>\n",
              "<tr><td>لپارس</td><td>95940</td></tr>\n",
              "<tr><td>پترولح</td><td>9560</td></tr>\n",
              "</table>\n"
            ],
            "text/plain": [
              "+------+-----------+\n",
              "|symbol|final_price|\n",
              "+------+-----------+\n",
              "| صايند|       9939|\n",
              "| شگويا|       9919|\n",
              "| اشاد1|     990000|\n",
              "|  شپلي|       9885|\n",
              "|وتوسم2|       9800|\n",
              "|سحرخيز|       9762|\n",
              "| شتران|       9730|\n",
              "| وتوسم|       9700|\n",
              "| لپارس|      95940|\n",
              "|پترولح|       9560|\n",
              "+------+-----------+"
            ]
          },
          "metadata": {
            "tags": []
          },
          "execution_count": 10
        }
      ]
    },
    {
      "cell_type": "code",
      "metadata": {
        "colab": {
          "base_uri": "https://localhost:8080/",
          "height": 316
        },
        "id": "rBnlGZWUWwbe",
        "outputId": "b2603d62-d798-400c-d952-2dd63d55c7f8"
      },
      "source": [
        "from pyspark.sql.functions import lit\n",
        "\n",
        "# least expensive\n",
        "res_df = df.filter(df.trade_date == lit(\"1399-12-27\")).select('symbol', 'final_price')\n",
        "res_df.orderBy('final_price').limit(10)"
      ],
      "execution_count": 11,
      "outputs": [
        {
          "output_type": "execute_result",
          "data": {
            "text/html": [
              "<table border='1'>\n",
              "<tr><th>symbol</th><th>final_price</th></tr>\n",
              "<tr><td>كمند2</td><td>1</td></tr>\n",
              "<tr><td>كيان2</td><td>1</td></tr>\n",
              "<tr><td>كارين2</td><td>1</td></tr>\n",
              "<tr><td>ياقوت2</td><td>1</td></tr>\n",
              "<tr><td>امين يكم2</td><td>1</td></tr>\n",
              "<tr><td>نهال2</td><td>1</td></tr>\n",
              "<tr><td>آگاس2</td><td>1</td></tr>\n",
              "<tr><td>اعتماد2</td><td>1</td></tr>\n",
              "<tr><td>وبازار2</td><td>1</td></tr>\n",
              "<tr><td>آكورد2</td><td>1</td></tr>\n",
              "</table>\n"
            ],
            "text/plain": [
              "+---------+-----------+\n",
              "|   symbol|final_price|\n",
              "+---------+-----------+\n",
              "|    كمند2|          1|\n",
              "|    كيان2|          1|\n",
              "|   كارين2|          1|\n",
              "|   ياقوت2|          1|\n",
              "|امين يكم2|          1|\n",
              "|    نهال2|          1|\n",
              "|    آگاس2|          1|\n",
              "|  اعتماد2|          1|\n",
              "|  وبازار2|          1|\n",
              "|   آكورد2|          1|\n",
              "+---------+-----------+"
            ]
          },
          "metadata": {
            "tags": []
          },
          "execution_count": 11
        }
      ]
    },
    {
      "cell_type": "markdown",
      "metadata": {
        "id": "Om4g_oV5N1kM"
      },
      "source": [
        "#### Spark SQL"
      ]
    },
    {
      "cell_type": "code",
      "metadata": {
        "colab": {
          "base_uri": "https://localhost:8080/",
          "height": 316
        },
        "id": "FZD09HjUXVgt",
        "outputId": "56a8be82-e4fd-40ec-8a45-e501d4f30658"
      },
      "source": [
        "# most expensive\n",
        "spark.sql(\n",
        "    '''\n",
        "    select symbol, final_price from stock where trade_date=\"1399-12-27\"\n",
        "    order by final_price desc limit 10\n",
        "    '''\n",
        ")"
      ],
      "execution_count": 12,
      "outputs": [
        {
          "output_type": "execute_result",
          "data": {
            "text/html": [
              "<table border='1'>\n",
              "<tr><th>symbol</th><th>final_price</th></tr>\n",
              "<tr><td>صايند</td><td>9939</td></tr>\n",
              "<tr><td>شگويا</td><td>9919</td></tr>\n",
              "<tr><td>اشاد1</td><td>990000</td></tr>\n",
              "<tr><td>شپلي</td><td>9885</td></tr>\n",
              "<tr><td>وتوسم2</td><td>9800</td></tr>\n",
              "<tr><td>سحرخيز</td><td>9762</td></tr>\n",
              "<tr><td>شتران</td><td>9730</td></tr>\n",
              "<tr><td>وتوسم</td><td>9700</td></tr>\n",
              "<tr><td>لپارس</td><td>95940</td></tr>\n",
              "<tr><td>پترولح</td><td>9560</td></tr>\n",
              "</table>\n"
            ],
            "text/plain": [
              "+------+-----------+\n",
              "|symbol|final_price|\n",
              "+------+-----------+\n",
              "| صايند|       9939|\n",
              "| شگويا|       9919|\n",
              "| اشاد1|     990000|\n",
              "|  شپلي|       9885|\n",
              "|وتوسم2|       9800|\n",
              "|سحرخيز|       9762|\n",
              "| شتران|       9730|\n",
              "| وتوسم|       9700|\n",
              "| لپارس|      95940|\n",
              "|پترولح|       9560|\n",
              "+------+-----------+"
            ]
          },
          "metadata": {
            "tags": []
          },
          "execution_count": 12
        }
      ]
    },
    {
      "cell_type": "code",
      "metadata": {
        "colab": {
          "base_uri": "https://localhost:8080/",
          "height": 316
        },
        "id": "FR8JRfkfJ_L9",
        "outputId": "d68f5fdd-d5ee-4c48-abfb-763a3baf4552"
      },
      "source": [
        "# least expensive\n",
        "spark.sql(\n",
        "    '''\n",
        "    select symbol, final_price from stock where trade_date=\"1399-12-27\"\n",
        "    order by final_price asc limit 10\n",
        "    '''\n",
        ")"
      ],
      "execution_count": 13,
      "outputs": [
        {
          "output_type": "execute_result",
          "data": {
            "text/html": [
              "<table border='1'>\n",
              "<tr><th>symbol</th><th>final_price</th></tr>\n",
              "<tr><td>كمند2</td><td>1</td></tr>\n",
              "<tr><td>كيان2</td><td>1</td></tr>\n",
              "<tr><td>كارين2</td><td>1</td></tr>\n",
              "<tr><td>ياقوت2</td><td>1</td></tr>\n",
              "<tr><td>امين يكم2</td><td>1</td></tr>\n",
              "<tr><td>نهال2</td><td>1</td></tr>\n",
              "<tr><td>آگاس2</td><td>1</td></tr>\n",
              "<tr><td>اعتماد2</td><td>1</td></tr>\n",
              "<tr><td>وبازار2</td><td>1</td></tr>\n",
              "<tr><td>آكورد2</td><td>1</td></tr>\n",
              "</table>\n"
            ],
            "text/plain": [
              "+---------+-----------+\n",
              "|   symbol|final_price|\n",
              "+---------+-----------+\n",
              "|    كمند2|          1|\n",
              "|    كيان2|          1|\n",
              "|   كارين2|          1|\n",
              "|   ياقوت2|          1|\n",
              "|امين يكم2|          1|\n",
              "|    نهال2|          1|\n",
              "|    آگاس2|          1|\n",
              "|  اعتماد2|          1|\n",
              "|  وبازار2|          1|\n",
              "|   آكورد2|          1|\n",
              "+---------+-----------+"
            ]
          },
          "metadata": {
            "tags": []
          },
          "execution_count": 13
        }
      ]
    },
    {
      "cell_type": "markdown",
      "metadata": {
        "id": "mPkjj0XBXKU3"
      },
      "source": [
        "### Q2\n",
        "Find most traded symbol in total"
      ]
    },
    {
      "cell_type": "markdown",
      "metadata": {
        "id": "4q687bfHOXD2"
      },
      "source": [
        "#### Spark Dataframes"
      ]
    },
    {
      "cell_type": "code",
      "metadata": {
        "colab": {
          "base_uri": "https://localhost:8080/",
          "height": 75
        },
        "id": "9JtOeqMRM-J0",
        "outputId": "1c676b08-2ed1-4906-db21-e3b206aeaf9e"
      },
      "source": [
        "res_df = df.groupBy('symbol').sum('capacity')\n",
        "res_df.orderBy('sum(capacity)', ascending=False).limit(1)"
      ],
      "execution_count": 14,
      "outputs": [
        {
          "output_type": "execute_result",
          "data": {
            "text/html": [
              "<table border='1'>\n",
              "<tr><th>symbol</th><th>sum(capacity)</th></tr>\n",
              "<tr><td>خساپا</td><td>48072085105</td></tr>\n",
              "</table>\n"
            ],
            "text/plain": [
              "+------+-------------+\n",
              "|symbol|sum(capacity)|\n",
              "+------+-------------+\n",
              "| خساپا|  48072085105|\n",
              "+------+-------------+"
            ]
          },
          "metadata": {
            "tags": []
          },
          "execution_count": 14
        }
      ]
    },
    {
      "cell_type": "markdown",
      "metadata": {
        "id": "TF_nzZy6OZ98"
      },
      "source": [
        "#### Spark SQL"
      ]
    },
    {
      "cell_type": "code",
      "metadata": {
        "colab": {
          "base_uri": "https://localhost:8080/",
          "height": 75
        },
        "id": "OfmF-KNONG4a",
        "outputId": "5e731145-4547-4c67-981f-9d8060105da8"
      },
      "source": [
        "spark.sql(\n",
        "    '''\n",
        "    select symbol, sum(capacity) as total_capacity from stock\n",
        "    group by symbol\n",
        "    order by total_capacity desc limit 1\n",
        "    '''\n",
        ")"
      ],
      "execution_count": 15,
      "outputs": [
        {
          "output_type": "execute_result",
          "data": {
            "text/html": [
              "<table border='1'>\n",
              "<tr><th>symbol</th><th>total_capacity</th></tr>\n",
              "<tr><td>خساپا</td><td>48072085105</td></tr>\n",
              "</table>\n"
            ],
            "text/plain": [
              "+------+--------------+\n",
              "|symbol|total_capacity|\n",
              "+------+--------------+\n",
              "| خساپا|   48072085105|\n",
              "+------+--------------+"
            ]
          },
          "metadata": {
            "tags": []
          },
          "execution_count": 15
        }
      ]
    },
    {
      "cell_type": "markdown",
      "metadata": {
        "id": "mjb2HUmOXLwH"
      },
      "source": [
        "### Q3\n",
        "Find top 10 symbols with most raise in price per each month"
      ]
    },
    {
      "cell_type": "markdown",
      "metadata": {
        "id": "rQ_sCxx-Pjd8"
      },
      "source": [
        "#### Spark Dataframes"
      ]
    },
    {
      "cell_type": "code",
      "metadata": {
        "colab": {
          "base_uri": "https://localhost:8080/",
          "height": 605
        },
        "id": "aqG8OK5-OYq8",
        "outputId": "cadcb970-1126-45d4-a70b-f776ace140db"
      },
      "source": [
        "from pyspark.sql.functions import row_number\n",
        "from pyspark.sql.window import Window\n",
        "\n",
        "res_df = df.groupBy('symbol', 'month').sum('final_price - diff')\n",
        "\n",
        "res_df.withColumn('rank', \n",
        "                  row_number()\n",
        "                  .over(Window.partitionBy('month').orderBy(col(\"sum(final_price - diff)\").desc()))\n",
        ").filter(col('rank')<=10)"
      ],
      "execution_count": 16,
      "outputs": [
        {
          "output_type": "execute_result",
          "data": {
            "text/html": [
              "<table border='1'>\n",
              "<tr><th>symbol</th><th>month</th><th>sum(final_price - diff)</th><th>rank</th></tr>\n",
              "<tr><td>عپلي جم</td><td>12</td><td>135483</td><td>1</td></tr>\n",
              "<tr><td>رويش</td><td>12</td><td>80698</td><td>2</td></tr>\n",
              "<tr><td>گندم2</td><td>12</td><td>54000</td><td>3</td></tr>\n",
              "<tr><td>رافزا</td><td>12</td><td>50265</td><td>4</td></tr>\n",
              "<tr><td>غمهراح</td><td>12</td><td>45750</td><td>5</td></tr>\n",
              "<tr><td>شفن</td><td>12</td><td>38690</td><td>6</td></tr>\n",
              "<tr><td>زاگرس</td><td>12</td><td>37665</td><td>7</td></tr>\n",
              "<tr><td>عكاوه2</td><td>12</td><td>34498</td><td>8</td></tr>\n",
              "<tr><td>نمرينو</td><td>12</td><td>34220</td><td>9</td></tr>\n",
              "<tr><td>شصفها4</td><td>12</td><td>31144</td><td>10</td></tr>\n",
              "<tr><td>بكاب</td><td>10</td><td>146890</td><td>1</td></tr>\n",
              "<tr><td>سصفها</td><td>10</td><td>99770</td><td>2</td></tr>\n",
              "<tr><td>سنير</td><td>10</td><td>99640</td><td>3</td></tr>\n",
              "<tr><td>اشاد2</td><td>10</td><td>89482</td><td>4</td></tr>\n",
              "<tr><td>سكارون</td><td>10</td><td>70173</td><td>5</td></tr>\n",
              "<tr><td>فنورد</td><td>10</td><td>60000</td><td>6</td></tr>\n",
              "<tr><td>دشيري</td><td>10</td><td>59677</td><td>7</td></tr>\n",
              "<tr><td>غدام</td><td>10</td><td>57930</td><td>8</td></tr>\n",
              "<tr><td>فمراد</td><td>10</td><td>54230</td><td>9</td></tr>\n",
              "<tr><td>گپارس</td><td>10</td><td>47245</td><td>10</td></tr>\n",
              "</table>\n",
              "only showing top 20 rows\n"
            ],
            "text/plain": [
              "+-------+-----+-----------------------+----+\n",
              "| symbol|month|sum(final_price - diff)|rank|\n",
              "+-------+-----+-----------------------+----+\n",
              "|عپلي جم|   12|                 135483|   1|\n",
              "|   رويش|   12|                  80698|   2|\n",
              "|  گندم2|   12|                  54000|   3|\n",
              "|  رافزا|   12|                  50265|   4|\n",
              "| غمهراح|   12|                  45750|   5|\n",
              "|    شفن|   12|                  38690|   6|\n",
              "|  زاگرس|   12|                  37665|   7|\n",
              "| عكاوه2|   12|                  34498|   8|\n",
              "| نمرينو|   12|                  34220|   9|\n",
              "| شصفها4|   12|                  31144|  10|\n",
              "|   بكاب|   10|                 146890|   1|\n",
              "|  سصفها|   10|                  99770|   2|\n",
              "|   سنير|   10|                  99640|   3|\n",
              "|  اشاد2|   10|                  89482|   4|\n",
              "| سكارون|   10|                  70173|   5|\n",
              "|  فنورد|   10|                  60000|   6|\n",
              "|  دشيري|   10|                  59677|   7|\n",
              "|   غدام|   10|                  57930|   8|\n",
              "|  فمراد|   10|                  54230|   9|\n",
              "|  گپارس|   10|                  47245|  10|\n",
              "+-------+-----+-----------------------+----+\n",
              "only showing top 20 rows"
            ]
          },
          "metadata": {
            "tags": []
          },
          "execution_count": 16
        }
      ]
    },
    {
      "cell_type": "markdown",
      "metadata": {
        "id": "nYivx1sEPm-_"
      },
      "source": [
        "#### Spark SQL"
      ]
    },
    {
      "cell_type": "code",
      "metadata": {
        "colab": {
          "base_uri": "https://localhost:8080/",
          "height": 605
        },
        "id": "HTGqZ6T3Oz3M",
        "outputId": "a90f4cdb-5c6c-483f-98ec-6d0fbb3145a2"
      },
      "source": [
        "spark.sql(\n",
        "    '''\n",
        "    select * from (\n",
        "      select *, (rank() over (partition by month order by total_change desc)) rank\n",
        "      from (\n",
        "        select symbol, month, sum(`final_price - diff`) as total_change from stock\n",
        "        group by symbol, month\n",
        "      )\n",
        "    )\n",
        "    where rank<=10\n",
        "    '''\n",
        ")"
      ],
      "execution_count": 17,
      "outputs": [
        {
          "output_type": "execute_result",
          "data": {
            "text/html": [
              "<table border='1'>\n",
              "<tr><th>symbol</th><th>month</th><th>total_change</th><th>rank</th></tr>\n",
              "<tr><td>عپلي جم</td><td>12</td><td>135483</td><td>1</td></tr>\n",
              "<tr><td>رويش</td><td>12</td><td>80698</td><td>2</td></tr>\n",
              "<tr><td>گندم2</td><td>12</td><td>54000</td><td>3</td></tr>\n",
              "<tr><td>رافزا</td><td>12</td><td>50265</td><td>4</td></tr>\n",
              "<tr><td>غمهراح</td><td>12</td><td>45750</td><td>5</td></tr>\n",
              "<tr><td>شفن</td><td>12</td><td>38690</td><td>6</td></tr>\n",
              "<tr><td>زاگرس</td><td>12</td><td>37665</td><td>7</td></tr>\n",
              "<tr><td>عكاوه2</td><td>12</td><td>34498</td><td>8</td></tr>\n",
              "<tr><td>نمرينو</td><td>12</td><td>34220</td><td>9</td></tr>\n",
              "<tr><td>شصفها4</td><td>12</td><td>31144</td><td>10</td></tr>\n",
              "<tr><td>بكاب</td><td>10</td><td>146890</td><td>1</td></tr>\n",
              "<tr><td>سصفها</td><td>10</td><td>99770</td><td>2</td></tr>\n",
              "<tr><td>سنير</td><td>10</td><td>99640</td><td>3</td></tr>\n",
              "<tr><td>اشاد2</td><td>10</td><td>89482</td><td>4</td></tr>\n",
              "<tr><td>سكارون</td><td>10</td><td>70173</td><td>5</td></tr>\n",
              "<tr><td>فنورد</td><td>10</td><td>60000</td><td>6</td></tr>\n",
              "<tr><td>دشيري</td><td>10</td><td>59677</td><td>7</td></tr>\n",
              "<tr><td>غدام</td><td>10</td><td>57930</td><td>8</td></tr>\n",
              "<tr><td>فمراد</td><td>10</td><td>54230</td><td>9</td></tr>\n",
              "<tr><td>گپارس</td><td>10</td><td>47245</td><td>10</td></tr>\n",
              "</table>\n",
              "only showing top 20 rows\n"
            ],
            "text/plain": [
              "+-------+-----+------------+----+\n",
              "| symbol|month|total_change|rank|\n",
              "+-------+-----+------------+----+\n",
              "|عپلي جم|   12|      135483|   1|\n",
              "|   رويش|   12|       80698|   2|\n",
              "|  گندم2|   12|       54000|   3|\n",
              "|  رافزا|   12|       50265|   4|\n",
              "| غمهراح|   12|       45750|   5|\n",
              "|    شفن|   12|       38690|   6|\n",
              "|  زاگرس|   12|       37665|   7|\n",
              "| عكاوه2|   12|       34498|   8|\n",
              "| نمرينو|   12|       34220|   9|\n",
              "| شصفها4|   12|       31144|  10|\n",
              "|   بكاب|   10|      146890|   1|\n",
              "|  سصفها|   10|       99770|   2|\n",
              "|   سنير|   10|       99640|   3|\n",
              "|  اشاد2|   10|       89482|   4|\n",
              "| سكارون|   10|       70173|   5|\n",
              "|  فنورد|   10|       60000|   6|\n",
              "|  دشيري|   10|       59677|   7|\n",
              "|   غدام|   10|       57930|   8|\n",
              "|  فمراد|   10|       54230|   9|\n",
              "|  گپارس|   10|       47245|  10|\n",
              "+-------+-----+------------+----+\n",
              "only showing top 20 rows"
            ]
          },
          "metadata": {
            "tags": []
          },
          "execution_count": 17
        }
      ]
    },
    {
      "cell_type": "markdown",
      "metadata": {
        "id": "ElhME96FXN2L"
      },
      "source": [
        "### Q4\n",
        "Find top 10 symbols with falling price in total"
      ]
    },
    {
      "cell_type": "markdown",
      "metadata": {
        "id": "TUOkZgY2QSLx"
      },
      "source": [
        "#### Spark Dataframes\n"
      ]
    },
    {
      "cell_type": "code",
      "metadata": {
        "colab": {
          "base_uri": "https://localhost:8080/",
          "height": 316
        },
        "id": "BH7LWyx3TLDu",
        "outputId": "b47c5507-bd2a-4b8a-83a9-3cbdcf603b3c"
      },
      "source": [
        "res_df = df.groupBy('symbol').sum('final_price - diff')\n",
        "res_df.orderBy('sum(final_price - diff)').limit(10)"
      ],
      "execution_count": 18,
      "outputs": [
        {
          "output_type": "execute_result",
          "data": {
            "text/html": [
              "<table border='1'>\n",
              "<tr><th>symbol</th><th>sum(final_price - diff)</th></tr>\n",
              "<tr><td>اطلس2</td><td>-10768859</td></tr>\n",
              "<tr><td>فيروزه2</td><td>-2882302</td></tr>\n",
              "<tr><td>آگاس2</td><td>-2825522</td></tr>\n",
              "<tr><td>سرو2</td><td>-1773884</td></tr>\n",
              "<tr><td>كيان2</td><td>-1538564</td></tr>\n",
              "<tr><td>آكورد2</td><td>-1433662</td></tr>\n",
              "<tr><td>عيار2</td><td>-1350706</td></tr>\n",
              "<tr><td>طلا2</td><td>-1171043</td></tr>\n",
              "<tr><td>گوهر2</td><td>-911593</td></tr>\n",
              "<tr><td>اعتماد2</td><td>-765130</td></tr>\n",
              "</table>\n"
            ],
            "text/plain": [
              "+-------+-----------------------+\n",
              "| symbol|sum(final_price - diff)|\n",
              "+-------+-----------------------+\n",
              "|  اطلس2|              -10768859|\n",
              "|فيروزه2|               -2882302|\n",
              "|  آگاس2|               -2825522|\n",
              "|   سرو2|               -1773884|\n",
              "|  كيان2|               -1538564|\n",
              "| آكورد2|               -1433662|\n",
              "|  عيار2|               -1350706|\n",
              "|   طلا2|               -1171043|\n",
              "|  گوهر2|                -911593|\n",
              "|اعتماد2|                -765130|\n",
              "+-------+-----------------------+"
            ]
          },
          "metadata": {
            "tags": []
          },
          "execution_count": 18
        }
      ]
    },
    {
      "cell_type": "markdown",
      "metadata": {
        "id": "0GHSOrm4QU5O"
      },
      "source": [
        "#### Spark SQL\n"
      ]
    },
    {
      "cell_type": "code",
      "metadata": {
        "colab": {
          "base_uri": "https://localhost:8080/",
          "height": 316
        },
        "id": "VtjXBiZCTbgW",
        "outputId": "8f308af0-7d94-4da2-b55c-1b938e70f654"
      },
      "source": [
        "spark.sql(\n",
        "    '''\n",
        "    select symbol, sum(`final_price - diff`) as total_change from stock\n",
        "    group by symbol\n",
        "    order by total_change asc limit 10\n",
        "    '''\n",
        ")"
      ],
      "execution_count": 19,
      "outputs": [
        {
          "output_type": "execute_result",
          "data": {
            "text/html": [
              "<table border='1'>\n",
              "<tr><th>symbol</th><th>total_change</th></tr>\n",
              "<tr><td>اطلس2</td><td>-10768859</td></tr>\n",
              "<tr><td>فيروزه2</td><td>-2882302</td></tr>\n",
              "<tr><td>آگاس2</td><td>-2825522</td></tr>\n",
              "<tr><td>سرو2</td><td>-1773884</td></tr>\n",
              "<tr><td>كيان2</td><td>-1538564</td></tr>\n",
              "<tr><td>آكورد2</td><td>-1433662</td></tr>\n",
              "<tr><td>عيار2</td><td>-1350706</td></tr>\n",
              "<tr><td>طلا2</td><td>-1171043</td></tr>\n",
              "<tr><td>گوهر2</td><td>-911593</td></tr>\n",
              "<tr><td>اعتماد2</td><td>-765130</td></tr>\n",
              "</table>\n"
            ],
            "text/plain": [
              "+-------+------------+\n",
              "| symbol|total_change|\n",
              "+-------+------------+\n",
              "|  اطلس2|   -10768859|\n",
              "|فيروزه2|    -2882302|\n",
              "|  آگاس2|    -2825522|\n",
              "|   سرو2|    -1773884|\n",
              "|  كيان2|    -1538564|\n",
              "| آكورد2|    -1433662|\n",
              "|  عيار2|    -1350706|\n",
              "|   طلا2|    -1171043|\n",
              "|  گوهر2|     -911593|\n",
              "|اعتماد2|     -765130|\n",
              "+-------+------------+"
            ]
          },
          "metadata": {
            "tags": []
          },
          "execution_count": 19
        }
      ]
    },
    {
      "cell_type": "markdown",
      "metadata": {
        "id": "SAaRLhSOXPnv"
      },
      "source": [
        "### Q5\n",
        "Find most closed symbol in total"
      ]
    },
    {
      "cell_type": "markdown",
      "metadata": {
        "id": "u1_IdtXQQeAl"
      },
      "source": [
        "#### Spark Dataframes"
      ]
    },
    {
      "cell_type": "code",
      "metadata": {
        "colab": {
          "base_uri": "https://localhost:8080/",
          "height": 75
        },
        "id": "Wu7PqxAwTu8u",
        "outputId": "9eb5a41d-9643-49b4-94be-47b8d5fff461"
      },
      "source": [
        "total_days = df.select('trade_date').distinct().count()\n",
        "\n",
        "res_df = df.filter(col('capacity')!=0).groupBy('symbol').count()\n",
        "res_df = res_df.select('symbol', (total_days-col('count')).alias('closed_days'))\n",
        "res_df.orderBy('closed_days', ascending=False).limit(1)"
      ],
      "execution_count": 20,
      "outputs": [
        {
          "output_type": "execute_result",
          "data": {
            "text/html": [
              "<table border='1'>\n",
              "<tr><th>symbol</th><th>closed_days</th></tr>\n",
              "<tr><td>فملي4</td><td>61</td></tr>\n",
              "</table>\n"
            ],
            "text/plain": [
              "+------+-----------+\n",
              "|symbol|closed_days|\n",
              "+------+-----------+\n",
              "| فملي4|         61|\n",
              "+------+-----------+"
            ]
          },
          "metadata": {
            "tags": []
          },
          "execution_count": 20
        }
      ]
    },
    {
      "cell_type": "markdown",
      "metadata": {
        "id": "yzpu-2dcQhAN"
      },
      "source": [
        "#### Spark SQL"
      ]
    },
    {
      "cell_type": "code",
      "metadata": {
        "colab": {
          "base_uri": "https://localhost:8080/",
          "height": 75
        },
        "id": "5P1umM0EVBCR",
        "outputId": "b97f2f83-00ee-4f84-e300-9047dc7dec0b"
      },
      "source": [
        "spark.sql(\n",
        "    '''\n",
        "    select symbol, (62-count(*)) as closed_day from stock\n",
        "    where capacity!=0\n",
        "    group by symbol\n",
        "    order by closed_day desc limit 1\n",
        "    '''\n",
        ")"
      ],
      "execution_count": 21,
      "outputs": [
        {
          "output_type": "execute_result",
          "data": {
            "text/html": [
              "<table border='1'>\n",
              "<tr><th>symbol</th><th>closed_day</th></tr>\n",
              "<tr><td>فملي4</td><td>61</td></tr>\n",
              "</table>\n"
            ],
            "text/plain": [
              "+------+----------+\n",
              "|symbol|closed_day|\n",
              "+------+----------+\n",
              "| فملي4|        61|\n",
              "+------+----------+"
            ]
          },
          "metadata": {
            "tags": []
          },
          "execution_count": 21
        }
      ]
    },
    {
      "cell_type": "code",
      "metadata": {
        "id": "HUs2gzcf4TQP"
      },
      "source": [
        ""
      ],
      "execution_count": 21,
      "outputs": []
    }
  ]
}