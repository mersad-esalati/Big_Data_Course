{
  "cells": [
    {
      "cell_type": "markdown",
      "metadata": {
        "id": "Dd6t0uFzuR4X"
      },
      "source": [
        "### Installing Spark"
      ]
    },
    {
      "cell_type": "markdown",
      "metadata": {
        "id": "6apGVff5h4ca"
      },
      "source": [
        "Install Dependencies:\n",
        "\n",
        "\n",
        "1.   Java 8\n",
        "2.   Apache Spark with hadoop\n",
        "3.   Findspark (used to locate the spark in the system)\n"
      ]
    },
    {
      "cell_type": "code",
      "execution_count": 2,
      "metadata": {
        "colab": {
          "base_uri": "https://localhost:8080/"
        },
        "id": "BbDNZZqTTO7v",
        "outputId": "c8a4c771-4850-4703-ea77-e471b63b74ae"
      },
      "outputs": [
        {
          "name": "stdout",
          "output_type": "stream",
          "text": [
            "--2021-06-13 06:18:09--  http://archive.apache.org/dist/spark/spark-3.1.1/spark-3.1.1-bin-hadoop3.2.tgz\n",
            "Resolving archive.apache.org (archive.apache.org)... 138.201.131.134, 2a01:4f8:172:2ec5::2\n",
            "Connecting to archive.apache.org (archive.apache.org)|138.201.131.134|:80... connected.\n",
            "HTTP request sent, awaiting response... 200 OK\n",
            "Length: 228721937 (218M) [application/x-gzip]\n",
            "Saving to: ‘spark-3.1.1-bin-hadoop3.2.tgz’\n",
            "\n",
            "spark-3.1.1-bin-had 100%[===================>] 218.13M  18.8MB/s    in 13s     \n",
            "\n",
            "2021-06-13 06:18:22 (17.1 MB/s) - ‘spark-3.1.1-bin-hadoop3.2.tgz’ saved [228721937/228721937]\n",
            "\n"
          ]
        }
      ],
      "source": [
        "!apt-get install openjdk-8-jdk-headless -qq > /dev/null\n",
        "!wget http://archive.apache.org/dist/spark/spark-3.1.1/spark-3.1.1-bin-hadoop3.2.tgz\n",
        "!tar xf spark-3.1.1-bin-hadoop3.2.tgz"
      ]
    },
    {
      "cell_type": "code",
      "execution_count": 3,
      "metadata": {
        "id": "YwC94i9eTQZD"
      },
      "outputs": [],
      "source": [
        "!pip install -q findspark"
      ]
    },
    {
      "cell_type": "markdown",
      "metadata": {
        "id": "C3x0ZRLxjMVr"
      },
      "source": [
        "Set Environment Variables:"
      ]
    },
    {
      "cell_type": "code",
      "execution_count": 4,
      "metadata": {
        "id": "sdOOq4twHN1K"
      },
      "outputs": [],
      "source": [
        "import os\n",
        "\n",
        "os.environ[\"JAVA_HOME\"] = \"/usr/lib/jvm/java-8-openjdk-amd64\"\n",
        "os.environ[\"SPARK_HOME\"] = \"/content/spark-3.1.1-bin-hadoop3.2\""
      ]
    },
    {
      "cell_type": "code",
      "execution_count": 6,
      "metadata": {
        "colab": {
          "base_uri": "https://localhost:8080/",
          "height": 257
        },
        "id": "KR1zLBk1998Z",
        "outputId": "d95d9d43-9fe7-4168-d060-82de0315ea93"
      },
      "outputs": [
        {
          "data": {
            "text/html": [
              "\n",
              "            <div>\n",
              "                <p><b>SparkSession - in-memory</b></p>\n",
              "                \n",
              "        <div>\n",
              "            <p><b>SparkContext</b></p>\n",
              "\n",
              "            <p><a href=\"http://dda58ebbffb5:4040\">Spark UI</a></p>\n",
              "\n",
              "            <dl>\n",
              "              <dt>Version</dt>\n",
              "                <dd><code>v3.1.1</code></dd>\n",
              "              <dt>Master</dt>\n",
              "                <dd><code>local[*]</code></dd>\n",
              "              <dt>AppName</dt>\n",
              "                <dd><code>pyspark-shell</code></dd>\n",
              "            </dl>\n",
              "        </div>\n",
              "        \n",
              "            </div>\n",
              "        "
            ],
            "text/plain": [
              "<pyspark.sql.session.SparkSession at 0x7fee36b840d0>"
            ]
          },
          "execution_count": 6,
          "metadata": {
            "tags": []
          },
          "output_type": "execute_result"
        }
      ],
      "source": [
        "import findspark\n",
        "\n",
        "findspark.init()\n",
        "\n",
        "from pyspark.sql import SparkSession\n",
        "\n",
        "spark = SparkSession.builder.master(\"local[*]\").getOrCreate()\n",
        "# Property used to format output tables better\n",
        "spark.conf.set(\"spark.sql.repl.eagerEval.enabled\", True)\n",
        "spark"
      ]
    },
    {
      "cell_type": "markdown",
      "metadata": {
        "id": "BppQ2jUQjxOJ"
      },
      "source": [
        "### Load Data"
      ]
    },
    {
      "cell_type": "markdown",
      "metadata": {
        "id": "3qLKA90tBYXt"
      },
      "source": [
        "Load Log file as RDD"
      ]
    },
    {
      "cell_type": "code",
      "execution_count": 8,
      "metadata": {
        "colab": {
          "base_uri": "https://localhost:8080/"
        },
        "id": "u__V-kGxzLVF",
        "outputId": "0c8d6447-b185-4e2a-948e-6cfed8470357"
      },
      "outputs": [
        {
          "data": {
            "text/plain": [
              "1891714"
            ]
          },
          "execution_count": 8,
          "metadata": {
            "tags": []
          },
          "output_type": "execute_result"
        }
      ],
      "source": [
        "raw_data = spark.sparkContext.textFile('Log')\n",
        "# filter lines shorter than 48 (corrupted lines)\n",
        "raw_data = raw_data.filter(lambda line: len(line)>=48)\n",
        "# display total items count\n",
        "raw_data.count()"
      ]
    },
    {
      "cell_type": "markdown",
      "metadata": {
        "id": "pUAh3XJlCE2z"
      },
      "source": [
        "Convert RDD to Dataframe"
      ]
    },
    {
      "cell_type": "code",
      "execution_count": 9,
      "metadata": {
        "id": "uSzjqzeyw_Hx"
      },
      "outputs": [],
      "source": [
        "import re\n",
        "\n",
        "# mapper function (parser function)\n",
        "def mapper(line):\n",
        "  host = re.split(' - - ', line)[0]\n",
        "  details = re.split(' - - ', line)[1]\n",
        "\n",
        "  timestamp = re.search('\\[(.*?)\\]', details).group(1).split()[0]\n",
        "  details = re.sub('\\[(.*?)\\]', '', details)\n",
        "\n",
        "  req_items = re.search('\"(.*)\"', details).group(1).split()\n",
        "  method = req_items[0] if 0 < len(req_items) else None\n",
        "  uri = req_items[1] if 1 < len(req_items) else None\n",
        "  protocol = req_items[2] if 2 < len(req_items) else None\n",
        "  details = re.sub('\"(.*)\"', '', details).strip()\n",
        "\n",
        "  response_code = details.split()[0]\n",
        "  \n",
        "  return host, timestamp, method, uri, protocol, response_code"
      ]
    },
    {
      "cell_type": "code",
      "execution_count": 10,
      "metadata": {
        "id": "9Mc24IICzNxr"
      },
      "outputs": [],
      "source": [
        "columns = ['host', 'timestamp', 'method', 'uri', 'protocol', 'response code']\n",
        "df = raw_data.map(mapper).toDF(columns)"
      ]
    },
    {
      "cell_type": "code",
      "execution_count": 11,
      "metadata": {
        "id": "vBGu9kFg926e"
      },
      "outputs": [],
      "source": [
        "from pyspark.sql.functions import col\n",
        "from pyspark.sql.functions import to_timestamp\n",
        "\n",
        "# change column type from string to timestamp\n",
        "df = df.withColumn('timestamp', to_timestamp(df.timestamp,'dd/MMM/yyyy:HH:mm:ss'))\n",
        "# change column type from string to integer\n",
        "df = df.withColumn('response code', col('response code').cast('int'))"
      ]
    },
    {
      "cell_type": "code",
      "execution_count": 12,
      "metadata": {
        "colab": {
          "base_uri": "https://localhost:8080/"
        },
        "id": "vRHfbwbkzQiR",
        "outputId": "928c0902-9ce5-4a48-8e72-0b846f947fa7"
      },
      "outputs": [
        {
          "name": "stdout",
          "output_type": "stream",
          "text": [
            "+--------------------+-------------------+------+--------------------+--------+-------------+\n",
            "|                host|          timestamp|method|                 uri|protocol|response code|\n",
            "+--------------------+-------------------+------+--------------------+--------+-------------+\n",
            "|        199.72.81.55|1995-07-01 00:00:01|   GET|    /history/apollo/|HTTP/1.0|          200|\n",
            "|unicomp6.unicomp.net|1995-07-01 00:00:06|   GET| /shuttle/countdown/|HTTP/1.0|          200|\n",
            "|      199.120.110.21|1995-07-01 00:00:09|   GET|/shuttle/missions...|HTTP/1.0|          200|\n",
            "|  burger.letters.com|1995-07-01 00:00:11|   GET|/shuttle/countdow...|HTTP/1.0|          304|\n",
            "|      199.120.110.21|1995-07-01 00:00:11|   GET|/shuttle/missions...|HTTP/1.0|          200|\n",
            "|  burger.letters.com|1995-07-01 00:00:12|   GET|/images/NASA-logo...|HTTP/1.0|          304|\n",
            "|  burger.letters.com|1995-07-01 00:00:12|   GET|/shuttle/countdow...|HTTP/1.0|          200|\n",
            "|     205.212.115.106|1995-07-01 00:00:12|   GET|/shuttle/countdow...|HTTP/1.0|          200|\n",
            "|         d104.aa.net|1995-07-01 00:00:13|   GET| /shuttle/countdown/|HTTP/1.0|          200|\n",
            "|      129.94.144.152|1995-07-01 00:00:13|   GET|                   /|HTTP/1.0|          200|\n",
            "+--------------------+-------------------+------+--------------------+--------+-------------+\n",
            "only showing top 10 rows\n",
            "\n",
            "root\n",
            " |-- host: string (nullable = true)\n",
            " |-- timestamp: timestamp (nullable = true)\n",
            " |-- method: string (nullable = true)\n",
            " |-- uri: string (nullable = true)\n",
            " |-- protocol: string (nullable = true)\n",
            " |-- response code: integer (nullable = true)\n",
            "\n"
          ]
        }
      ],
      "source": [
        "df.show(10, truncate=True)\n",
        "df.printSchema()"
      ]
    },
    {
      "cell_type": "markdown",
      "metadata": {
        "id": "TtAQVd39j78y"
      },
      "source": [
        "### Part 1"
      ]
    },
    {
      "cell_type": "markdown",
      "metadata": {
        "id": "NzAdxNr_CwRS"
      },
      "source": [
        "Count distinct hosts"
      ]
    },
    {
      "cell_type": "code",
      "execution_count": 13,
      "metadata": {
        "colab": {
          "base_uri": "https://localhost:8080/"
        },
        "id": "J7tCi5xX8xOX",
        "outputId": "892ebf80-644d-4888-89b3-f10353973cc7"
      },
      "outputs": [
        {
          "data": {
            "text/plain": [
              "81982"
            ]
          },
          "execution_count": 13,
          "metadata": {
            "tags": []
          },
          "output_type": "execute_result"
        }
      ],
      "source": [
        "df.select('host').distinct().count()"
      ]
    },
    {
      "cell_type": "markdown",
      "metadata": {
        "id": "XqCY5py7j_Gl"
      },
      "source": [
        "### Part 2"
      ]
    },
    {
      "cell_type": "markdown",
      "metadata": {
        "id": "4oem2TJZDCMc"
      },
      "source": [
        "Caculate average request for each host per day"
      ]
    },
    {
      "cell_type": "code",
      "execution_count": 14,
      "metadata": {
        "colab": {
          "base_uri": "https://localhost:8080/"
        },
        "id": "mDTTBqa_De6G",
        "outputId": "818c9c5a-9109-466e-dc80-c34daab1ffa7"
      },
      "outputs": [
        {
          "name": "stdout",
          "output_type": "stream",
          "text": [
            "+--------------------+------------------+\n",
            "|                host|        avg(count)|\n",
            "+--------------------+------------------+\n",
            "|sldar1p10.ozemail...|               4.0|\n",
            "|      128.159.63.129|               6.0|\n",
            "|  ppp213.telepost.no|              11.0|\n",
            "|n1135849.ksc.nasa...|13.714285714285714|\n",
            "|   linus.cs.tamu.edu|              16.0|\n",
            "|        206.64.50.15|              10.0|\n",
            "|dd05-020.compuser...|               2.2|\n",
            "|  enigma.idirect.com|             31.76|\n",
            "|drjo013a072.embra...| 9.666666666666666|\n",
            "|      198.88.100.197|               5.5|\n",
            "+--------------------+------------------+\n",
            "only showing top 10 rows\n",
            "\n"
          ]
        }
      ],
      "source": [
        "from pyspark.sql.functions import to_date\n",
        "\n",
        "res_df = df.groupBy('host', to_date('timestamp')).count().groupBy('host').mean()\n",
        "res_df.show(10, truncate=True)"
      ]
    },
    {
      "cell_type": "markdown",
      "metadata": {
        "id": "-EKzZJXKkHPI"
      },
      "source": [
        "### Part 3"
      ]
    },
    {
      "cell_type": "markdown",
      "metadata": {
        "id": "61Akks6ZDOt_"
      },
      "source": [
        "Count total gif file requested"
      ]
    },
    {
      "cell_type": "code",
      "execution_count": 15,
      "metadata": {
        "colab": {
          "base_uri": "https://localhost:8080/"
        },
        "id": "VvdWNCqmEV49",
        "outputId": "b8971cfa-d838-444c-e20e-5ee4ee9169a4"
      },
      "outputs": [
        {
          "data": {
            "text/plain": [
              "1029475"
            ]
          },
          "execution_count": 15,
          "metadata": {
            "tags": []
          },
          "output_type": "execute_result"
        }
      ],
      "source": [
        "df.filter(df.uri.endswith('.gif')).count()"
      ]
    },
    {
      "cell_type": "markdown",
      "metadata": {
        "id": "62sEKGA8kLif"
      },
      "source": [
        "### Part 4"
      ]
    },
    {
      "cell_type": "markdown",
      "metadata": {
        "id": "K8QFc2WVDytZ"
      },
      "source": [
        "Find most requested host names\n",
        "- Filter hosts that ip addressed\n",
        "- Filter hosts requested less that 3 times"
      ]
    },
    {
      "cell_type": "code",
      "execution_count": 16,
      "metadata": {
        "id": "0E2RsXbfHO5a"
      },
      "outputs": [],
      "source": [
        "from pyspark.sql.functions import udf\n",
        "from pyspark.sql.types import BooleanType\n",
        "\n",
        "import re\n",
        "\n",
        "# function for filtering ip addressed hosts\n",
        "def hn_filter(host):\n",
        "  return not bool(re.match(r\"^\\d{1,3}\\.\\d{1,3}\\.\\d{1,3}\\.\\d{1,3}$\", host))\n",
        "\n",
        "# convert python function to spark user defined function\n",
        "hn_filter_udf = udf(hn_filter, BooleanType())"
      ]
    },
    {
      "cell_type": "code",
      "execution_count": 17,
      "metadata": {
        "colab": {
          "base_uri": "https://localhost:8080/"
        },
        "id": "tfJiOaK_J_0z",
        "outputId": "b43a29ae-f8d9-49a9-9fc2-a3fcd562e685"
      },
      "outputs": [
        {
          "name": "stdout",
          "output_type": "stream",
          "text": [
            "+--------------------+-----+\n",
            "|                host|count|\n",
            "+--------------------+-----+\n",
            "|piweba3y.prodigy.com|17572|\n",
            "|piweba4y.prodigy.com|11591|\n",
            "|piweba1y.prodigy.com| 9868|\n",
            "|  alyssa.prodigy.com| 7852|\n",
            "| siltb10.orl.mmc.com| 7573|\n",
            "|piweba2y.prodigy.com| 5922|\n",
            "|  edams.ksc.nasa.gov| 5434|\n",
            "|         news.ti.com| 4863|\n",
            "|disarray.demon.co.uk| 4353|\n",
            "|www-a2.proxy.aol.com| 4179|\n",
            "+--------------------+-----+\n",
            "only showing top 10 rows\n",
            "\n"
          ]
        }
      ],
      "source": [
        "from pyspark.sql.functions import col\n",
        "\n",
        "# filter ip addressed hosts\n",
        "filtered_df = df.filter(hn_filter_udf(df.host))\n",
        "\n",
        "res_df = filtered_df.groupBy('host').count().filter(col('count')>3)\n",
        "res_df.orderBy('count', ascending=False).show(10, truncate=True)"
      ]
    },
    {
      "cell_type": "markdown",
      "metadata": {
        "id": "yp6haZ6xEd0k"
      },
      "source": [
        "Find most requested hosts per day\n",
        "- Filter hosts that ip addressed\n",
        "- Filter hosts requested less that 3 times"
      ]
    },
    {
      "cell_type": "code",
      "execution_count": 18,
      "metadata": {
        "colab": {
          "base_uri": "https://localhost:8080/"
        },
        "id": "51zZ0n9moamO",
        "outputId": "8eb453de-9b0d-4112-954a-4974779f5a6d"
      },
      "outputs": [
        {
          "name": "stdout",
          "output_type": "stream",
          "text": [
            "+--------------------+------------------+-----+\n",
            "|                host|to_date(timestamp)|count|\n",
            "+--------------------+------------------+-----+\n",
            "|piweba3y.prodigy.com|        1995-07-01|  623|\n",
            "|piweba3y.prodigy.com|        1995-07-02|  960|\n",
            "|piweba3y.prodigy.com|        1995-07-03| 1067|\n",
            "|piweba3y.prodigy.com|        1995-07-04| 1199|\n",
            "|         news.ti.com|        1995-07-05|  826|\n",
            "|piweba3y.prodigy.com|        1995-07-06|  732|\n",
            "|piweba3y.prodigy.com|        1995-07-07|  879|\n",
            "|piweba3y.prodigy.com|        1995-07-08|  781|\n",
            "|  alyssa.prodigy.com|        1995-07-09|  545|\n",
            "|  e659229.boeing.com|        1995-07-10|  358|\n",
            "+--------------------+------------------+-----+\n",
            "only showing top 10 rows\n",
            "\n"
          ]
        }
      ],
      "source": [
        "from pyspark.sql.functions import to_date\n",
        "\n",
        "# filter ip addressed hosts\n",
        "filtered_df = df.filter(hn_filter_udf(df.host))\n",
        "\n",
        "res_df = filtered_df.groupBy('host', to_date('timestamp')).count()\n",
        "res_df = res_df.orderBy('count', ascending=False).dropDuplicates(['to_date(timestamp)'])\n",
        "res_df.orderBy('to_date(timestamp)').show(10, truncate=True)"
      ]
    },
    {
      "cell_type": "markdown",
      "metadata": {
        "id": "Ph7Yoebv9qQm"
      },
      "source": [
        "### Part 5"
      ]
    },
    {
      "cell_type": "markdown",
      "metadata": {
        "id": "GRFGEsVEE56P"
      },
      "source": [
        "Display response errors (!= 200) frequency graphically"
      ]
    },
    {
      "cell_type": "code",
      "execution_count": 22,
      "metadata": {
        "id": "uM4Qjrc_rZHM"
      },
      "outputs": [],
      "source": [
        "res_df = df.filter(col('response code')!=200).groupBy('response code').count()"
      ]
    },
    {
      "cell_type": "code",
      "execution_count": 23,
      "metadata": {
        "colab": {
          "base_uri": "https://localhost:8080/",
          "height": 279
        },
        "id": "e-1p33gpw4rr",
        "outputId": "8244033d-9bce-4e5a-90e3-7dd0338d2bcd"
      },
      "outputs": [
        {
          "data": {
            "image/png": "[encoded data removed]",
            "text/plain": [
              "<Figure size 432x288 with 1 Axes>"
            ]
          },
          "metadata": {
            "needs_background": "light",
            "tags": []
          },
          "output_type": "display_data"
        }
      ],
      "source": [
        "import matplotlib.pyplot as plt\n",
        "\n",
        "res_pdf = res_df.toPandas()\n",
        "res_pdf.plot.bar(x='response code', y='count', rot=0)\n",
        "plt.savefig('error_freq.jpg')"
      ]
    },
    {
      "cell_type": "code",
      "execution_count": 20,
      "metadata": {
        "id": "uIyRi_Y8_Ncc"
      },
      "outputs": [],
      "source": []
    }
  ],
  "metadata": {
    "colab": {
      "collapsed_sections": [],
      "name": "Spark Step 2.ipynb",
      "provenance": []
    },
    "kernelspec": {
      "display_name": "Python 3.8.10 64-bit",
      "language": "python",
      "name": "python3"
    },
    "language_info": {
      "name": "python",
      "version": "3.8.10"
    },
    "vscode": {
      "interpreter": {
        "hash": "916dbcbb3f70747c44a77c7bcd40155683ae19c65e1c03b4aa3499c5328201f1"
      }
    }
  },
  "nbformat": 4,
  "nbformat_minor": 0
}
